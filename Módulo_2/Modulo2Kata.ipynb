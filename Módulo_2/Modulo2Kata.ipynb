{
 "cells": [
  {
   "cell_type": "markdown",
   "metadata": {},
   "source": [
    "# Crear un paquete"
   ]
  },
  {
   "cell_type": "code",
   "execution_count": 2,
   "metadata": {},
   "outputs": [
    {
     "name": "stdout",
     "output_type": "stream",
     "text": [
      "2022-02-08 15:06:15.930680\n",
      "2022-03-15 10:06:15.930680\n"
     ]
    }
   ],
   "source": [
    "from datetime import *\n",
    "from dateutil.relativedelta import *\n",
    "now = datetime.now()\n",
    "print(now)\n",
    "\n",
    "now = now + relativedelta(months=1, weeks=1, hour=10)\n",
    "\n",
    "print(now)"
   ]
  }
 ],
 "metadata": {
  "interpreter": {
   "hash": "1c63c0eca20b931adc2ac805c7013ebf79fce1a5c5eed462e7ac58ac9a8ce5dd"
  },
  "kernelspec": {
   "display_name": "Python 3.10.0 ('env': venv)",
   "language": "python",
   "name": "python3"
  },
  "language_info": {
   "codemirror_mode": {
    "name": "ipython",
    "version": 3
   },
   "file_extension": ".py",
   "mimetype": "text/x-python",
   "name": "python",
   "nbconvert_exporter": "python",
   "pygments_lexer": "ipython3",
   "version": "3.10.0"
  },
  "orig_nbformat": 4
 },
 "nbformat": 4,
 "nbformat_minor": 2
}
