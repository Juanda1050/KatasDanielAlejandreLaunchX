{
 "cells": [
  {
   "cell_type": "markdown",
   "metadata": {},
   "source": [
    "# Ejercicio: Uso de funciones en Python\n",
    "### Ejercicio 1: Trabajar con argumentos en funciones"
   ]
  },
  {
   "cell_type": "code",
   "execution_count": 5,
   "metadata": {},
   "outputs": [],
   "source": [
    "def fuel_report(tank_1, tank_2, tank_3):\n",
    "    total_average = (tank_1 + tank_2 + tank_3) /3\n",
    "    return f\"\"\"\n",
    "        Fuel Report:\n",
    "        Total Average: {total_average}%\n",
    "        Tank 1: {tank_1}%\n",
    "        Tank 2: {tank_2}%\n",
    "        Tank 3: {tank_3}%\n",
    "    \"\"\""
   ]
  },
  {
   "cell_type": "code",
   "execution_count": 6,
   "metadata": {},
   "outputs": [
    {
     "name": "stdout",
     "output_type": "stream",
     "text": [
      "\n",
      "        Fuel Report:\n",
      "        Total Average: 53.333333333333336%\n",
      "        Tank 1: 50%\n",
      "        Tank 2: 30%\n",
      "        Tank 3: 80%\n",
      "    \n"
     ]
    }
   ],
   "source": [
    "print(fuel_report(50, 30, 80))"
   ]
  },
  {
   "cell_type": "code",
   "execution_count": 7,
   "metadata": {},
   "outputs": [
    {
     "data": {
      "text/plain": [
       "46.333333333333336"
      ]
     },
     "execution_count": 7,
     "metadata": {},
     "output_type": "execute_result"
    }
   ],
   "source": [
    "def average(tanks):\n",
    "    total = sum(tanks)\n",
    "    items = len(tanks)\n",
    "    fuel_average = total / items\n",
    "    return fuel_average\n",
    "\n",
    "average([46, 70, 23])"
   ]
  },
  {
   "cell_type": "code",
   "execution_count": 8,
   "metadata": {},
   "outputs": [
    {
     "name": "stdout",
     "output_type": "stream",
     "text": [
      "\n",
      "        Fuel Report:\n",
      "        Total Average: 58.0%\n",
      "        Tank 1: 42%\n",
      "        Tank 2: 54%\n",
      "        Tank 3: 78%\n",
      "    \n"
     ]
    }
   ],
   "source": [
    "def fuel_report(tank_1, tank_2, tank_3):\n",
    "    total_average = (tank_1 + tank_2 + tank_3) /3\n",
    "    return f\"\"\"\n",
    "        Fuel Report:\n",
    "        Total Average: {total_average}%\n",
    "        Tank 1: {tank_1}%\n",
    "        Tank 2: {tank_2}%\n",
    "        Tank 3: {tank_3}%\n",
    "    \"\"\"\n",
    "print(fuel_report(42, 54, 78))"
   ]
  },
  {
   "cell_type": "markdown",
   "metadata": {},
   "source": [
    "### Ejercicio 2: Trabajo con argumentos de palabra clave"
   ]
  },
  {
   "cell_type": "code",
   "execution_count": 9,
   "metadata": {},
   "outputs": [
    {
     "name": "stdout",
     "output_type": "stream",
     "text": [
      "\n",
      "    Mission to Moon\n",
      "    Total travel time: 69 minutes\n",
      "    Total fuel left: 803900 gallons\n",
      "    \n"
     ]
    }
   ],
   "source": [
    "def mission_report(pre_launch_time, flight_time, destination, external_tank, main_tank):\n",
    "    return f\"\"\"\n",
    "    Mission to {destination}\n",
    "    Total travel time: {pre_launch_time + flight_time} minutes\n",
    "    Total fuel left: {external_tank + main_tank} gallons\n",
    "    \"\"\"\n",
    "\n",
    "print(mission_report(13, 56, \"Moon\", 503000, 300900))"
   ]
  },
  {
   "cell_type": "code",
   "execution_count": 10,
   "metadata": {},
   "outputs": [
    {
     "name": "stdout",
     "output_type": "stream",
     "text": [
      "\n",
      "    Mission to Moon\n",
      "    Total travel time: 94 minutes\n",
      "    Total fuel left: 533900\n",
      "    \n"
     ]
    }
   ],
   "source": [
    "def mission_report(destination, *minutes, **fuel_reservoirs):\n",
    "    return f\"\"\"\n",
    "    Mission to {destination}\n",
    "    Total travel time: {sum(minutes)} minutes\n",
    "    Total fuel left: {sum(fuel_reservoirs.values())}\n",
    "    \"\"\"\n",
    "\n",
    "print(mission_report(\"Moon\", 13, 25, 56, main=30900, external=503000))"
   ]
  },
  {
   "cell_type": "code",
   "execution_count": 11,
   "metadata": {},
   "outputs": [
    {
     "name": "stdout",
     "output_type": "stream",
     "text": [
      "\n",
      "    Mission to Moon\n",
      "    Total travel time: 72 minutes\n",
      "    Total fuel left: 533900\n",
      "    main tank --> 30900 gallons left\n",
      "external tank --> 503000 gallons left\n",
      "\n"
     ]
    }
   ],
   "source": [
    "def mission_report(destination, *minutes, **fuel_reservoirs):\n",
    "    main_report = f\"\"\"\n",
    "    Mission to {destination}\n",
    "    Total travel time: {sum(minutes)} minutes\n",
    "    Total fuel left: {sum(fuel_reservoirs.values())}\n",
    "    \"\"\"\n",
    "    for tank_name, gallons in fuel_reservoirs.items():\n",
    "        main_report += f\"{tank_name} tank --> {gallons} gallons left\\n\"\n",
    "    return main_report\n",
    "\n",
    "print(mission_report(\"Moon\", 5, 17, 50, main=30900, external=503000))"
   ]
  }
 ],
 "metadata": {
  "interpreter": {
   "hash": "0c272624f27c7584f133db164db8cfa4ae077b007c36b4c60dab2d8e63bf8e22"
  },
  "kernelspec": {
   "display_name": "Python 3.10.0 64-bit",
   "language": "python",
   "name": "python3"
  },
  "language_info": {
   "codemirror_mode": {
    "name": "ipython",
    "version": 3
   },
   "file_extension": ".py",
   "mimetype": "text/x-python",
   "name": "python",
   "nbconvert_exporter": "python",
   "pygments_lexer": "ipython3",
   "version": "3.10.0"
  },
  "orig_nbformat": 4
 },
 "nbformat": 4,
 "nbformat_minor": 2
}
