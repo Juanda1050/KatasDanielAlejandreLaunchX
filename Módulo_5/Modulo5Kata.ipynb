{
 "cells": [
  {
   "cell_type": "markdown",
   "metadata": {},
   "source": [
    "# Ejercicio 1: Utilizar operadores aritméticos"
   ]
  },
  {
   "cell_type": "code",
   "execution_count": 13,
   "metadata": {},
   "outputs": [],
   "source": [
    "firstPlanet = 149597870\n",
    "secondPlanet = 778547200"
   ]
  },
  {
   "cell_type": "code",
   "execution_count": 14,
   "metadata": {},
   "outputs": [
    {
     "name": "stdout",
     "output_type": "stream",
     "text": [
      "628949330 kilometers\n",
      "390810874.13143003 miles\n"
     ]
    }
   ],
   "source": [
    "distanceKm = secondPlanet - firstPlanet\n",
    "print(str(distanceKm) + \" kilometers\")\n",
    "\n",
    "distanceMiles = distanceKm * 0.621371\n",
    "print(str(distanceMiles) + \" miles\")"
   ]
  },
  {
   "cell_type": "markdown",
   "metadata": {},
   "source": [
    "# Ejercicio 2: Convertir cadenas en números y usar valores absolutos"
   ]
  },
  {
   "cell_type": "code",
   "execution_count": 15,
   "metadata": {},
   "outputs": [],
   "source": [
    "firstPlanet = int(input(\"Enter the distance of the sun for the first planet in KM: \"))\n",
    "secondPlanet = int(input(\"Enter the distance of the sun for the second planet in KM: \"))"
   ]
  },
  {
   "cell_type": "code",
   "execution_count": 16,
   "metadata": {},
   "outputs": [
    {
     "name": "stdout",
     "output_type": "stream",
     "text": [
      "628949330 kilometers\n",
      "390810874.13143003 miles\n"
     ]
    }
   ],
   "source": [
    "distanceKm = secondPlanet - firstPlanet\n",
    "print(str(distanceKm) + \" kilometers\")\n",
    "\n",
    "distanceMiles = distanceKm * 0.621371\n",
    "print(str(distanceMiles) + \" miles\")"
   ]
  }
 ],
 "metadata": {
  "interpreter": {
   "hash": "0c272624f27c7584f133db164db8cfa4ae077b007c36b4c60dab2d8e63bf8e22"
  },
  "kernelspec": {
   "display_name": "Python 3.10.0 64-bit",
   "language": "python",
   "name": "python3"
  },
  "language_info": {
   "codemirror_mode": {
    "name": "ipython",
    "version": 3
   },
   "file_extension": ".py",
   "mimetype": "text/x-python",
   "name": "python",
   "nbconvert_exporter": "python",
   "pygments_lexer": "ipython3",
   "version": "3.10.0"
  },
  "orig_nbformat": 4
 },
 "nbformat": 4,
 "nbformat_minor": 2
}
