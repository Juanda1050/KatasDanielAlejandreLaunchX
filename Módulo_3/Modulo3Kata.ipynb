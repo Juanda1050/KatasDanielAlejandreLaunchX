{
 "cells": [
  {
   "cell_type": "markdown",
   "metadata": {},
   "source": [
    "# Ejercicio: Escribir declaraciones _if, else y elif_"
   ]
  },
  {
   "cell_type": "code",
   "execution_count": 8,
   "metadata": {},
   "outputs": [
    {
     "name": "stdout",
     "output_type": "stream",
     "text": [
      "Danger!!, the asteroid is too fast and close to the Earth!\n",
      "49 km/s - asteroid speed\n"
     ]
    }
   ],
   "source": [
    "asteroidSpeed = 49\n",
    "if asteroidSpeed > 25:\n",
    "    print(\"Danger!!, the asteroid is too fast and close to the Earth!\")\n",
    "else:\n",
    "    print(\"Nothing to be worried!\")\n",
    "\n",
    "print(str(asteroidSpeed) + \" km/s - asteroid speed\")"
   ]
  },
  {
   "cell_type": "code",
   "execution_count": 9,
   "metadata": {},
   "outputs": [
    {
     "name": "stdout",
     "output_type": "stream",
     "text": [
      "Look up! Is a magic light in the sky\n",
      "28.0 km/s - asteroid speed\n"
     ]
    }
   ],
   "source": [
    "asteroid = float(input(\"Enter the speed of the asteroid detected: \"))\n",
    "if asteroid > 20:\n",
    "    print(\"Look up! Is a magic light in the sky\")\n",
    "elif asteroid == 20:\n",
    "    print(\"Look up! Is a magic light in the sky\")\n",
    "else:\n",
    "    print(\"Nothing to see\")\n",
    "\n",
    "print(str(asteroid) + \" km/s - asteroid speed\")"
   ]
  },
  {
   "cell_type": "markdown",
   "metadata": {},
   "source": [
    "# Ejercicio: Uso de operadores _and y or_"
   ]
  },
  {
   "cell_type": "code",
   "execution_count": 10,
   "metadata": {},
   "outputs": [
    {
     "name": "stdout",
     "output_type": "stream",
     "text": [
      "Nothing to see\n",
      "11.0 km/s - asteroid speed\n",
      "20.0 m - asteroid size\n"
     ]
    }
   ],
   "source": [
    "asteroidSpeed = float(input(\"Enter the speed of the asteroid detected: \"))\n",
    "asteroidSize = float(input(\"Enter the size of the asteroid: \"))\n",
    "\n",
    "if asteroidSpeed > 25 and asteroidSize > 40:\n",
    "    print(\"Danger!!, the asteroid is too fast and close to the Earth!\")\n",
    "elif asteroidSpeed >= 20:\n",
    "    print(\"Look up! Is a magic light in the sky\")\n",
    "elif asteroidSize < 25:\n",
    "    print(\"Nothing to see\")\n",
    "else:\n",
    "    print(\"Nothing to see\")\n",
    "\n",
    "print(str(asteroidSpeed) + \" km/s - asteroid speed\")\n",
    "print(str(asteroidSize) + \" m - asteroid size\")"
   ]
  }
 ],
 "metadata": {
  "interpreter": {
   "hash": "0c272624f27c7584f133db164db8cfa4ae077b007c36b4c60dab2d8e63bf8e22"
  },
  "kernelspec": {
   "display_name": "Python 3.10.0 64-bit",
   "language": "python",
   "name": "python3"
  },
  "language_info": {
   "codemirror_mode": {
    "name": "ipython",
    "version": 3
   },
   "file_extension": ".py",
   "mimetype": "text/x-python",
   "name": "python",
   "nbconvert_exporter": "python",
   "pygments_lexer": "ipython3",
   "version": "3.10.0"
  },
  "orig_nbformat": 4
 },
 "nbformat": 4,
 "nbformat_minor": 2
}
